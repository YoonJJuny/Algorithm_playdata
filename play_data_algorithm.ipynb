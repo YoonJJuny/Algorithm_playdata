{
 "cells": [
  {
   "cell_type": "markdown",
   "id": "58cdd37d",
   "metadata": {},
   "source": [
    "수박수박수박수"
   ]
  },
  {
   "cell_type": "code",
   "execution_count": 1,
   "id": "17604c02",
   "metadata": {},
   "outputs": [
    {
     "data": {
      "text/plain": [
       "'수박수박'"
      ]
     },
     "execution_count": 1,
     "metadata": {},
     "output_type": "execute_result"
    }
   ],
   "source": [
    "def solution(n):\n",
    "    a = []\n",
    "    for i in range(n):\n",
    "        if i%2 == 0:\n",
    "            a.append(\"수\")\n",
    "        else:\n",
    "            a.append(\"박\")\n",
    "    answer = ''.join(a)\n",
    "    return answer\n",
    "solution(4)"
   ]
  },
  {
   "cell_type": "markdown",
   "id": "aaac0e40",
   "metadata": {},
   "source": [
    "서울에서 김서방 찾기"
   ]
  },
  {
   "cell_type": "code",
   "execution_count": 2,
   "id": "fd1f037f",
   "metadata": {},
   "outputs": [],
   "source": [
    "def solution(seoul):\n",
    "    \n",
    "    n = seoul.index(\"Kim\")\n",
    "    answer = '김서방은 ',str(n),'에 있다'\n",
    "    answer = ''.join(answer)\n",
    "    return answer"
   ]
  },
  {
   "cell_type": "markdown",
   "id": "2be220ec",
   "metadata": {},
   "source": [
    "약수의 합"
   ]
  },
  {
   "cell_type": "code",
   "execution_count": 3,
   "id": "3e058505",
   "metadata": {},
   "outputs": [
    {
     "data": {
      "text/plain": [
       "6"
      ]
     },
     "execution_count": 3,
     "metadata": {},
     "output_type": "execute_result"
    }
   ],
   "source": [
    "def solution(n):\n",
    "    \n",
    "    a = []\n",
    "    for i in range(1, n+1):\n",
    "        if n%i == 0:\n",
    "            a.append(i)\n",
    "    answer = sum(a)\n",
    "    return answer\n",
    "\n",
    "solution(5)"
   ]
  },
  {
   "cell_type": "markdown",
   "id": "f0e20cdf",
   "metadata": {},
   "source": [
    "문자열 내 개수 세기"
   ]
  },
  {
   "cell_type": "code",
   "execution_count": 4,
   "id": "5812214e",
   "metadata": {},
   "outputs": [],
   "source": [
    "def solution(s):\n",
    "    \n",
    "    s = s.lower()\n",
    "    if s.count('p') == s.count('y'):\n",
    "        return True\n",
    "    else:\n",
    "        return False"
   ]
  },
  {
   "cell_type": "raw",
   "id": "d55b1b1f",
   "metadata": {},
   "source": [
    "같은 숫자는 싫어"
   ]
  },
  {
   "cell_type": "code",
   "execution_count": 5,
   "id": "1cf67530",
   "metadata": {},
   "outputs": [],
   "source": [
    "def solution(arr):\n",
    "    answer = []\n",
    "    for i in range(len(arr)):\n",
    "        if i == 0 or arr[i-1] != arr[i]:\n",
    "            answer.append(arr[i])\n",
    "    return answer"
   ]
  },
  {
   "cell_type": "markdown",
   "id": "304641d8",
   "metadata": {},
   "source": [
    "가운데 글자 가져오기"
   ]
  },
  {
   "cell_type": "code",
   "execution_count": 6,
   "id": "8eae2a3b",
   "metadata": {},
   "outputs": [
    {
     "data": {
      "text/plain": [
       "'k'"
      ]
     },
     "execution_count": 6,
     "metadata": {},
     "output_type": "execute_result"
    }
   ],
   "source": [
    "def solution(s):\n",
    "    a = list(s)\n",
    "    i = 0\n",
    "    while i < len(s)-2:\n",
    "        a.pop()\n",
    "        a.reverse()\n",
    "        a.pop()\n",
    "        a.reverse()\n",
    "        i += 2\n",
    "    \n",
    "    answer = ''.join(a)\n",
    "    return answer\n",
    "solution(\"lkd\")"
   ]
  },
  {
   "cell_type": "markdown",
   "id": "e9e2995f",
   "metadata": {},
   "source": [
    "x만큼 간격의 n개의 숫자"
   ]
  },
  {
   "cell_type": "code",
   "execution_count": 7,
   "id": "2979d00f",
   "metadata": {},
   "outputs": [],
   "source": [
    "def solution(x, n):\n",
    "    answer = []\n",
    "    for i in range(n):\n",
    "        answer.append(x+x*i)\n",
    "    return answer"
   ]
  },
  {
   "cell_type": "markdown",
   "id": "339f3fed",
   "metadata": {},
   "source": [
    "직사각형 별 찍기"
   ]
  },
  {
   "cell_type": "code",
   "execution_count": 8,
   "id": "27ecc11e",
   "metadata": {},
   "outputs": [
    {
     "name": "stdout",
     "output_type": "stream",
     "text": [
      "*****\n",
      "*****\n",
      " \b*****\n"
     ]
    }
   ],
   "source": [
    "def star(m,n):\n",
    "    answer = '*'*m\n",
    "    print((answer+'\\n')*(n-1),('\\b'+answer))\n",
    "star(5,3)"
   ]
  },
  {
   "cell_type": "code",
   "execution_count": 9,
   "id": "1a37445c",
   "metadata": {},
   "outputs": [
    {
     "name": "stdout",
     "output_type": "stream",
     "text": [
      "2 4\n",
      "**\n",
      "**\n",
      "**\n",
      "**\n"
     ]
    }
   ],
   "source": [
    "n, m = map(int, input().split())\n",
    "\n",
    "for _ in range(m):\n",
    "    print('*' * n)"
   ]
  },
  {
   "cell_type": "markdown",
   "id": "9f390d78",
   "metadata": {},
   "source": [
    "평균 구하기"
   ]
  },
  {
   "cell_type": "code",
   "execution_count": 10,
   "id": "5fed0930",
   "metadata": {},
   "outputs": [],
   "source": [
    "def solution(arr):\n",
    "    answer = sum(arr)/len(arr)\n",
    "    return answer"
   ]
  },
  {
   "cell_type": "markdown",
   "id": "402f3105",
   "metadata": {},
   "source": [
    "행렬의 덧셈"
   ]
  },
  {
   "cell_type": "code",
   "execution_count": 11,
   "id": "61439db7",
   "metadata": {},
   "outputs": [
    {
     "name": "stdout",
     "output_type": "stream",
     "text": [
      "[[[1, 2, 4, 6], [2, 3, 7, 9]], [[1, 4], [2, 6]]]\n"
     ]
    },
    {
     "name": "stderr",
     "output_type": "stream",
     "text": [
      "C:\\Users\\Playdata\\AppData\\Local\\Temp\\ipykernel_4568\\2751429012.py:5: VisibleDeprecationWarning: Creating an ndarray from ragged nested sequences (which is a list-or-tuple of lists-or-tuples-or ndarrays with different lengths or shapes) is deprecated. If you meant to do this, you must specify 'dtype=object' when creating the ndarray.\n",
      "  a = np.array(arr1)\n",
      "C:\\Users\\Playdata\\AppData\\Local\\Temp\\ipykernel_4568\\2751429012.py:6: VisibleDeprecationWarning: Creating an ndarray from ragged nested sequences (which is a list-or-tuple of lists-or-tuples-or ndarrays with different lengths or shapes) is deprecated. If you meant to do this, you must specify 'dtype=object' when creating the ndarray.\n",
      "  b = np.array(arr2)\n"
     ]
    }
   ],
   "source": [
    "import numpy as np\n",
    "import json\n",
    "\n",
    "def solution(arr1, arr2):\n",
    "    a = np.array(arr1)\n",
    "    b = np.array(arr2)\n",
    "    answer = a + b\n",
    "    return answer.tolist()  # NumPy 배열을 Python 리스트로 변환\n",
    "\n",
    "result = solution([[[1,2],[2,3]],[[1],[2]]], [[[4,6],[7,9]],[[4],[6]]])\n",
    "result_json = json.dumps(result)  # 결과를 JSON 문자열로 변환\n",
    "print(result_json)"
   ]
  },
  {
   "cell_type": "markdown",
   "id": "fe2ca644",
   "metadata": {},
   "source": [
    "짝수와 홀수"
   ]
  },
  {
   "cell_type": "code",
   "execution_count": 12,
   "id": "f6df0ea9",
   "metadata": {},
   "outputs": [],
   "source": [
    "def solution(num):\n",
    "    if num%2 == 0:\n",
    "        return \"Even\"\n",
    "    else:\n",
    "        return \"Odd\""
   ]
  },
  {
   "cell_type": "markdown",
   "id": "65ef1075",
   "metadata": {},
   "source": [
    "각 자릿수의 합"
   ]
  },
  {
   "cell_type": "code",
   "execution_count": 22,
   "id": "6a95485f",
   "metadata": {},
   "outputs": [
    {
     "data": {
      "text/plain": [
       "6"
      ]
     },
     "execution_count": 22,
     "metadata": {},
     "output_type": "execute_result"
    }
   ],
   "source": [
    "def solution(n):\n",
    "    a = str(n)\n",
    "    answer = 0\n",
    "    for i in range(len(a)):\n",
    "        answer += int(a[i])\n",
    "\n",
    "    return answer\n",
    "solution(123)"
   ]
  },
  {
   "cell_type": "markdown",
   "id": "89e411c8",
   "metadata": {},
   "source": [
    "최대공약수, 최소공배수"
   ]
  },
  {
   "cell_type": "code",
   "execution_count": 25,
   "id": "a42d06e4",
   "metadata": {},
   "outputs": [
    {
     "data": {
      "text/plain": [
       "[1, 10]"
      ]
     },
     "execution_count": 25,
     "metadata": {},
     "output_type": "execute_result"
    }
   ],
   "source": [
    "import math\n",
    "def solution(n, m):\n",
    "    gcd = math.gcd(n,m)\n",
    "    lcm = n*m//gcd\n",
    "    \n",
    "    answer = [gcd, lcm]\n",
    "    return answer\n",
    "solution(2,5)"
   ]
  },
  {
   "cell_type": "markdown",
   "id": "bebe6f5e",
   "metadata": {},
   "source": [
    "제곱근 판별"
   ]
  },
  {
   "cell_type": "code",
   "execution_count": 44,
   "id": "a232bede",
   "metadata": {},
   "outputs": [
    {
     "data": {
      "text/plain": [
       "169"
      ]
     },
     "execution_count": 44,
     "metadata": {},
     "output_type": "execute_result"
    }
   ],
   "source": [
    "def solution(n):\n",
    "    \n",
    "    for i in range(1, int(n**0.5)+1):\n",
    "        if i**2 == n:\n",
    "            return (i+1)**2\n",
    "    return -1\n",
    "solution(144)"
   ]
  },
  {
   "cell_type": "markdown",
   "id": "215f1ae1",
   "metadata": {},
   "source": [
    "문자열 다루기"
   ]
  },
  {
   "cell_type": "code",
   "execution_count": 15,
   "id": "a8344232",
   "metadata": {},
   "outputs": [
    {
     "data": {
      "text/plain": [
       "False"
      ]
     },
     "execution_count": 15,
     "metadata": {},
     "output_type": "execute_result"
    }
   ],
   "source": [
    "def solution(s):\n",
    "    if len(s) != 4 and len(s) != 6:\n",
    "        return False\n",
    "    if any(char.isalpha() for char in s):\n",
    "        return False\n",
    "    return True\n",
    "solution(\"123a\")"
   ]
  },
  {
   "cell_type": "markdown",
   "id": "0dc354fa",
   "metadata": {},
   "source": [
    "정수 내림차순으로 배치하기"
   ]
  },
  {
   "cell_type": "code",
   "execution_count": 39,
   "id": "3e72f726",
   "metadata": {},
   "outputs": [
    {
     "data": {
      "text/plain": [
       "'9865432'"
      ]
     },
     "execution_count": 39,
     "metadata": {},
     "output_type": "execute_result"
    }
   ],
   "source": [
    "def solution(n):\n",
    "    n = str(n)\n",
    "    a = list(map(str, n))\n",
    "    a.sort(reverse = True)\n",
    "    b = ''.join(a)\n",
    "    return b\n",
    "solution(5426398)"
   ]
  },
  {
   "cell_type": "markdown",
   "id": "2d0d6acd",
   "metadata": {},
   "source": [
    "자연수 뒤집어 배열로 만들기"
   ]
  },
  {
   "cell_type": "code",
   "execution_count": 43,
   "id": "eb89ace9",
   "metadata": {},
   "outputs": [
    {
     "name": "stdout",
     "output_type": "stream",
     "text": [
      "[[5, 4, 3, 2, 1]]\n"
     ]
    }
   ],
   "source": [
    "def solution(n):\n",
    "    n = str(n)\n",
    "    a = list(n)\n",
    "    a.reverse()\n",
    "    a= list(map(int,a))\n",
    "    print(a)\n",
    "solution(12345)"
   ]
  },
  {
   "cell_type": "markdown",
   "id": "e9ce392f",
   "metadata": {},
   "source": [
    "핸드폰 번호 가리기"
   ]
  },
  {
   "cell_type": "code",
   "execution_count": 51,
   "id": "4cdbe68a",
   "metadata": {},
   "outputs": [],
   "source": [
    "def solution(phone_number):\n",
    "    length = len(phone_number)\n",
    "    hidden = '*' * (length - 4)  \n",
    "    visible = phone_number[-4:] \n",
    "    answer = hidden + visible\n",
    "    return answer"
   ]
  },
  {
   "cell_type": "markdown",
   "id": "03ac275c",
   "metadata": {},
   "source": [
    "하샤드 수"
   ]
  },
  {
   "cell_type": "code",
   "execution_count": 57,
   "id": "a3ed8b38",
   "metadata": {},
   "outputs": [
    {
     "data": {
      "text/plain": [
       "False"
      ]
     },
     "execution_count": 57,
     "metadata": {},
     "output_type": "execute_result"
    }
   ],
   "source": [
    "def solution(n):\n",
    "    a = str(n)\n",
    "    answer = 0\n",
    "    for i in range(len(a)):\n",
    "        answer += int(a[i])\n",
    "\n",
    "    if n % answer == 0 :\n",
    "        return True\n",
    "    return False\n",
    "solution(11)"
   ]
  },
  {
   "cell_type": "markdown",
   "id": "7aac35d2",
   "metadata": {},
   "source": [
    "나누어 떨어지는 숫자 배열"
   ]
  },
  {
   "cell_type": "code",
   "execution_count": 59,
   "id": "3ba8db2e",
   "metadata": {},
   "outputs": [
    {
     "data": {
      "text/plain": [
       "[5, 10]"
      ]
     },
     "execution_count": 59,
     "metadata": {},
     "output_type": "execute_result"
    }
   ],
   "source": [
    "def solution(arr, divisor):\n",
    "    a = []\n",
    "    for i in range(len(arr)):\n",
    "        if arr[i] % divisor == 0 :\n",
    "            a.append(arr[i])\n",
    "    if not a:\n",
    "        a.append(-1)\n",
    "    a.sort()\n",
    "    return a\n",
    "solution([5, 9, 7, 10], 5)"
   ]
  },
  {
   "cell_type": "markdown",
   "id": "cc561241",
   "metadata": {},
   "source": []
  },
  {
   "cell_type": "code",
   "execution_count": 13,
   "id": "850bb2e6",
   "metadata": {},
   "outputs": [
    {
     "data": {
      "text/plain": [
       "[1]"
      ]
     },
     "execution_count": 13,
     "metadata": {},
     "output_type": "execute_result"
    }
   ],
   "source": [
    "def solution(answers):\n",
    "    arr1=[1,2,3,4,5]*2000\n",
    "    arr2=[2,1,2,3,2,4,2,5]*1250\n",
    "    arr3=[3,3,1,1,2,2,4,4,5,5]*1000\n",
    "    \n",
    "    cnt1 = 0\n",
    "    cnt2 = 0\n",
    "    cnt3 = 0\n",
    "    \n",
    "    for i in range(len(answers)):\n",
    "        if answers[i] == arr1[i]:\n",
    "            cnt1 += 1\n",
    "        if answers[i] == arr2[i]:\n",
    "            cnt2 += 1\n",
    "        if answers[i] == arr3[i]:\n",
    "            cnt3 += 1\n",
    "            \n",
    "    max_cnt = max(cnt1, cnt2, cnt3)\n",
    "    answer = []\n",
    "    \n",
    "    if cnt1 == max_cnt:\n",
    "        answer.append(1)\n",
    "    if cnt2 == max_cnt:\n",
    "        answer.append(2)\n",
    "    if cnt3 == max_cnt:\n",
    "        answer.append(3)\n",
    "    \n",
    "    return answer\n",
    "       \n",
    "solution([1,2,3,4,5])"
   ]
  },
  {
   "cell_type": "markdown",
   "id": "bfdd39c2",
   "metadata": {},
   "source": [
    "요일 맞히기"
   ]
  },
  {
   "cell_type": "code",
   "execution_count": 6,
   "id": "6f94cb41",
   "metadata": {},
   "outputs": [
    {
     "name": "stdout",
     "output_type": "stream",
     "text": [
      "MON\n"
     ]
    }
   ],
   "source": [
    "import datetime\n",
    "def solution(a, b):\n",
    "    day = datetime.date(2016, a, b)\n",
    "    dd = day.weekday()\n",
    "    \n",
    "    weekdays = [\"MON\", \"TUE\", \"WED\", \"THU\", \"FRI\", \"SAT\", \"SUN\"]\n",
    "    dd_name = weekdays[dd]\n",
    "    \n",
    "    print(dd_name)\n",
    "solution(5,23)"
   ]
  },
  {
   "cell_type": "markdown",
   "id": "500d2906",
   "metadata": {},
   "source": [
    "예산"
   ]
  },
  {
   "cell_type": "code",
   "execution_count": 13,
   "id": "679a7b16",
   "metadata": {},
   "outputs": [
    {
     "data": {
      "text/plain": [
       "0"
      ]
     },
     "execution_count": 13,
     "metadata": {},
     "output_type": "execute_result"
    }
   ],
   "source": [
    "def solution(d, budget):\n",
    "    d.sort()\n",
    "    \n",
    "    cnt = 0\n",
    "    for i in range(len(d)):\n",
    "        cnt +=d[i]\n",
    "        if cnt > budget:\n",
    "            return i\n",
    "    print(i+1)\n",
    "\n",
    "solution([8,3,7,5,4],2)"
   ]
  },
  {
   "cell_type": "markdown",
   "id": "f2e1a3af",
   "metadata": {},
   "source": [
    "시저 암호"
   ]
  },
  {
   "cell_type": "code",
   "execution_count": 31,
   "id": "06948992",
   "metadata": {},
   "outputs": [
    {
     "name": "stdout",
     "output_type": "stream",
     "text": [
      "b C d\n"
     ]
    }
   ],
   "source": [
    "def solution(s, n):\n",
    "    arr1 = \"abcdefghijklmnopqrstuvwxyz\"*2\n",
    "    list_arr1 = list(arr1)\n",
    "    arr2 = \"ABCDEFGHIJKLMNOPQRSTUVWXYZ\"*2\n",
    "    list_arr2 = list(arr2)\n",
    "    answer = []\n",
    "    for i in s:\n",
    "        if i in list_arr1:\n",
    "            idx = list_arr1.index(i)\n",
    "            answer.append(list_arr1[idx + n])\n",
    "        elif i in list_arr2:\n",
    "            idx = list_arr2.index(i)\n",
    "            answer.append(list_arr2[idx + n])\n",
    "        else:\n",
    "            answer.append(i)\n",
    "    \n",
    "    print(''.join(answer))\n",
    "solution(\"a B c\",1)"
   ]
  },
  {
   "cell_type": "markdown",
   "id": "56311545",
   "metadata": {},
   "source": [
    "이진수 변환"
   ]
  },
  {
   "cell_type": "code",
   "execution_count": 19,
   "id": "3d97155c",
   "metadata": {},
   "outputs": [
    {
     "name": "stdout",
     "output_type": "stream",
     "text": [
      "2\n",
      "10\n"
     ]
    }
   ],
   "source": [
    "def binary(n):\n",
    "    answer = \"\"\n",
    "    while n > 0:\n",
    "        if n%2 == 1:\n",
    "            answer = \"1\" + answer\n",
    "            n = n//2\n",
    "        else:\n",
    "            answer = \"0\" + answer\n",
    "            n = n//2\n",
    "    print(answer)\n",
    "n=int(input())\n",
    "binary(n)"
   ]
  }
 ],
 "metadata": {
  "kernelspec": {
   "display_name": "Python 3 (ipykernel)",
   "language": "python",
   "name": "python3"
  },
  "language_info": {
   "codemirror_mode": {
    "name": "ipython",
    "version": 3
   },
   "file_extension": ".py",
   "mimetype": "text/x-python",
   "name": "python",
   "nbconvert_exporter": "python",
   "pygments_lexer": "ipython3",
   "version": "3.10.9"
  }
 },
 "nbformat": 4,
 "nbformat_minor": 5
}
